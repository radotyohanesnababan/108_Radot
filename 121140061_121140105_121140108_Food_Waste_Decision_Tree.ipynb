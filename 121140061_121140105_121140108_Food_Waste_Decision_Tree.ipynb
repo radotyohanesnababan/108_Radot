{
  "nbformat": 4,
  "nbformat_minor": 0,
  "metadata": {
    "colab": {
      "provenance": [],
      "include_colab_link": true
    },
    "kernelspec": {
      "name": "python3",
      "display_name": "Python 3"
    },
    "language_info": {
      "name": "python"
    }
  },
  "cells": [
    {
      "cell_type": "markdown",
      "metadata": {
        "id": "view-in-github",
        "colab_type": "text"
      },
      "source": [
        "<a href=\"https://colab.research.google.com/github/radotyohanesnababan/108_Radot/blob/main/121140061_121140105_121140108_Food_Waste_Decision_Tree.ipynb\" target=\"_parent\"><img src=\"https://colab.research.google.com/assets/colab-badge.svg\" alt=\"Open In Colab\"/></a>"
      ]
    },
    {
      "cell_type": "markdown",
      "source": [
        "# Tugas Supervise Learning | Intelegensi Buatan (RB)\n",
        "## Decision Tree on Prediction of Employee Resignations"
      ],
      "metadata": {
        "id": "Gk5gg_ZNAhaH"
      }
    },
    {
      "cell_type": "markdown",
      "source": [
        "## Nama Anggota Kelompok\n",
        "```\n",
        "1. Rafli Hafidz Fadillah - 121140061\n",
        "2. Radot Yohanes Nababan - 121140108\n",
        "3. Ahmad Rizki Maulana - 121140105\n",
        "```\n"
      ],
      "metadata": {
        "id": "0F0YQcDmAjv-"
      }
    },
    {
      "cell_type": "code",
      "source": [
        "# Run kode\n",
        "!git"
      ],
      "metadata": {
        "id": "M3GveJPKBWkp"
      },
      "execution_count": null,
      "outputs": []
    },
    {
      "cell_type": "markdown",
      "source": [
        "## Dataset Food Waste\n",
        "Limbah makanan merupakan salah satu masalah serius yang dihadapi umat manusia di seluruh dunia. Saat ini, sistem pangan sangat tidak efisien: diperkirakan antara sepertiga hingga setengah dari makanan yang diproduksi hilang sebelum\n",
        "mencapai mulut manusia.\n",
        "\n",
        "Referensi sumber dataset:\n",
        "Joakim Arvidsson.(2023). Food Waste. Kagle Repository. https://www.kaggle.com/datasets/joebeachcapital/food-waste/data"
      ],
      "metadata": {
        "id": "3h6UErLwAyHp"
      }
    },
    {
      "cell_type": "markdown",
      "source": [
        "## Import Modul\n",
        "Modul yang digunakan adalah pandas, Matplotlib, dan scikit learn\n",
        "\n",
        "> **Pandas**\n",
        ">> Beberapa fungsi pandas digunakan dalam project ini diantaranya :\n",
        "* Pembacaan dataset yang berasa dari eksternal (URL github)\n",
        "* Pandas digunakan untuk melakukan berbagai tugas pemrosesan data, termasuk pembacaan, pembersihan, transformasi, dan analisis data.\n",
        "* Modul Pandas diimpor dengan alias 'pd'.\n",
        "\n",
        "> **Matplotlib**\n",
        "* Modul Matplotlib diimpor dengan alias 'plt'.\n",
        "* Matplotlib digunakan untuk membuat visualisasi data, seperti grafik dan plot, sehingga memungkinkan untuk memvisualisasikan data dari dataset.\n",
        "\n",
        ">**Scikit Learn**\n",
        ">> from sklearn.model_selection import train_test_split\n",
        ">>> Fungsi ini digunakan untuk membagi dataset menjadi dua bagian: data pelatihan (train) dan data pengujian (test), yang penting dalam proses pelatihan dan pengujian model machine learning.\n",
        "\n",
        ">> from sklearn.tree import DecisionTreeClassifier as DTC\n",
        ">>> DecisionTreeClassifier adalah algoritma pembelajaran mesin yang digunakan untuk membangun model berdasarkan pohon keputusan, yang digunakan dalam tugas klasifikasi.\n",
        "\n",
        ">> from sklearn.metrics import accuracy_score as acc, confusion_matrix as cm, classification_report\n",
        "* accuracy_score diimpor dengan alias 'acc', digunakan untuk mengukur akurasi model\n",
        "* confusion_matrix diimpor dengan alias 'cm', digunakan untuk membuat matriks kebingungan, yang memberikan informasi tentang kinerja model dalam hal prediksi benar dan salah\n",
        "* classification_report diimpor, digunakan untuk menghasilkan laporan klasifikasi yang berisi berbagai metrik evaluasi seperti presisi, recall, dan f1-score"
      ],
      "metadata": {
        "id": "-6hsyzKZC897"
      }
    },
    {
      "cell_type": "markdown",
      "source": [
        "IMPORT DATASET"
      ],
      "metadata": {
        "id": "cbIZAAl-DyLy"
      }
    },
    {
      "cell_type": "code",
      "source": [
        "#import library yang dibutuhkan\n",
        "import pandas as pd\n",
        "import matplotlib.pyplot as plt\n",
        "from sklearn.model_selection import train_test_split\n",
        "from sklearn.tree import DecisionTreeClassifier as DTC\n",
        "from sklearn.metrics import accuracy_score as acc, confusion_matrix as cm, classification_report as cr"
      ],
      "metadata": {
        "id": "G9Skm0SJD0D9"
      },
      "execution_count": null,
      "outputs": []
    },
    {
      "cell_type": "markdown",
      "source": [
        "MASUKKAN SOURCE DATASET"
      ],
      "metadata": {
        "id": "a7gY6qBnD1fo"
      }
    },
    {
      "cell_type": "code",
      "source": [
        "url = \"https://raw.githubusercontent.com/radotyohanesnababan/IB_Mg9/main/FOOD.csv\"\n",
        "data_food = pd.read_csv(url)"
      ],
      "metadata": {
        "id": "zklXbYZpD7XC"
      },
      "execution_count": null,
      "outputs": []
    },
    {
      "cell_type": "markdown",
      "source": [
        "MENAMPILKAN DATASET"
      ],
      "metadata": {
        "id": "0-22lxb8FCCf"
      }
    },
    {
      "cell_type": "code",
      "source": [
        "data_food.head()"
      ],
      "metadata": {
        "colab": {
          "base_uri": "https://localhost:8080/",
          "height": 365
        },
        "id": "8V2aFpCcFDzD",
        "outputId": "772c4207-5dae-426a-98fb-4fb8b35feb44"
      },
      "execution_count": null,
      "outputs": [
        {
          "output_type": "execute_result",
          "data": {
            "text/plain": [
              "       Country  combined figures (kg/capita/year)  \\\n",
              "0  Afghanistan                                126   \n",
              "1      Albania                                127   \n",
              "2      Algeria                                135   \n",
              "3      Andorra                                123   \n",
              "4       Angola                                144   \n",
              "\n",
              "   Household estimate (kg/capita/year)  Household estimate (tonnes/year)  \\\n",
              "0                                   82                           3109153   \n",
              "1                                   83                            238492   \n",
              "2                                   91                           3918529   \n",
              "3                                   84                              6497   \n",
              "4                                  100                           3169523   \n",
              "\n",
              "   Retail estimate (kg/capita/year)  Retail estimate (tonnes/year)  \\\n",
              "0                                16                         594982   \n",
              "1                                16                          45058   \n",
              "2                                16                         673360   \n",
              "3                                13                            988   \n",
              "4                                16                         497755   \n",
              "\n",
              "   Food service estimate (kg/capita/year)  \\\n",
              "0                                      28   \n",
              "1                                      28   \n",
              "2                                      28   \n",
              "3                                      26   \n",
              "4                                      28   \n",
              "\n",
              "   Food service estimate (tonnes/year)  Confidence in estimate  M49 code  \\\n",
              "0                              1051783                       0         4   \n",
              "1                                79651                       0         8   \n",
              "2                              1190335                       0        12   \n",
              "3                                 1971                       1        20   \n",
              "4                               879908                       0        24   \n",
              "\n",
              "               Region                                             Source  \n",
              "0       Southern Asia  https://www.unep.org/resources/report/unep-foo...  \n",
              "1     Southern Europe  https://www.unep.org/resources/report/unep-foo...  \n",
              "2     Northern Africa  https://www.unep.org/resources/report/unep-foo...  \n",
              "3     Southern Europe  https://www.unep.org/resources/report/unep-foo...  \n",
              "4  Sub-Saharan Africa  https://www.unep.org/resources/report/unep-foo...  "
            ],
            "text/html": [
              "\n",
              "  <div id=\"df-da1fef28-91cc-4988-a543-0c2708bf4652\" class=\"colab-df-container\">\n",
              "    <div>\n",
              "<style scoped>\n",
              "    .dataframe tbody tr th:only-of-type {\n",
              "        vertical-align: middle;\n",
              "    }\n",
              "\n",
              "    .dataframe tbody tr th {\n",
              "        vertical-align: top;\n",
              "    }\n",
              "\n",
              "    .dataframe thead th {\n",
              "        text-align: right;\n",
              "    }\n",
              "</style>\n",
              "<table border=\"1\" class=\"dataframe\">\n",
              "  <thead>\n",
              "    <tr style=\"text-align: right;\">\n",
              "      <th></th>\n",
              "      <th>Country</th>\n",
              "      <th>combined figures (kg/capita/year)</th>\n",
              "      <th>Household estimate (kg/capita/year)</th>\n",
              "      <th>Household estimate (tonnes/year)</th>\n",
              "      <th>Retail estimate (kg/capita/year)</th>\n",
              "      <th>Retail estimate (tonnes/year)</th>\n",
              "      <th>Food service estimate (kg/capita/year)</th>\n",
              "      <th>Food service estimate (tonnes/year)</th>\n",
              "      <th>Confidence in estimate</th>\n",
              "      <th>M49 code</th>\n",
              "      <th>Region</th>\n",
              "      <th>Source</th>\n",
              "    </tr>\n",
              "  </thead>\n",
              "  <tbody>\n",
              "    <tr>\n",
              "      <th>0</th>\n",
              "      <td>Afghanistan</td>\n",
              "      <td>126</td>\n",
              "      <td>82</td>\n",
              "      <td>3109153</td>\n",
              "      <td>16</td>\n",
              "      <td>594982</td>\n",
              "      <td>28</td>\n",
              "      <td>1051783</td>\n",
              "      <td>0</td>\n",
              "      <td>4</td>\n",
              "      <td>Southern Asia</td>\n",
              "      <td>https://www.unep.org/resources/report/unep-foo...</td>\n",
              "    </tr>\n",
              "    <tr>\n",
              "      <th>1</th>\n",
              "      <td>Albania</td>\n",
              "      <td>127</td>\n",
              "      <td>83</td>\n",
              "      <td>238492</td>\n",
              "      <td>16</td>\n",
              "      <td>45058</td>\n",
              "      <td>28</td>\n",
              "      <td>79651</td>\n",
              "      <td>0</td>\n",
              "      <td>8</td>\n",
              "      <td>Southern Europe</td>\n",
              "      <td>https://www.unep.org/resources/report/unep-foo...</td>\n",
              "    </tr>\n",
              "    <tr>\n",
              "      <th>2</th>\n",
              "      <td>Algeria</td>\n",
              "      <td>135</td>\n",
              "      <td>91</td>\n",
              "      <td>3918529</td>\n",
              "      <td>16</td>\n",
              "      <td>673360</td>\n",
              "      <td>28</td>\n",
              "      <td>1190335</td>\n",
              "      <td>0</td>\n",
              "      <td>12</td>\n",
              "      <td>Northern Africa</td>\n",
              "      <td>https://www.unep.org/resources/report/unep-foo...</td>\n",
              "    </tr>\n",
              "    <tr>\n",
              "      <th>3</th>\n",
              "      <td>Andorra</td>\n",
              "      <td>123</td>\n",
              "      <td>84</td>\n",
              "      <td>6497</td>\n",
              "      <td>13</td>\n",
              "      <td>988</td>\n",
              "      <td>26</td>\n",
              "      <td>1971</td>\n",
              "      <td>1</td>\n",
              "      <td>20</td>\n",
              "      <td>Southern Europe</td>\n",
              "      <td>https://www.unep.org/resources/report/unep-foo...</td>\n",
              "    </tr>\n",
              "    <tr>\n",
              "      <th>4</th>\n",
              "      <td>Angola</td>\n",
              "      <td>144</td>\n",
              "      <td>100</td>\n",
              "      <td>3169523</td>\n",
              "      <td>16</td>\n",
              "      <td>497755</td>\n",
              "      <td>28</td>\n",
              "      <td>879908</td>\n",
              "      <td>0</td>\n",
              "      <td>24</td>\n",
              "      <td>Sub-Saharan Africa</td>\n",
              "      <td>https://www.unep.org/resources/report/unep-foo...</td>\n",
              "    </tr>\n",
              "  </tbody>\n",
              "</table>\n",
              "</div>\n",
              "    <div class=\"colab-df-buttons\">\n",
              "\n",
              "  <div class=\"colab-df-container\">\n",
              "    <button class=\"colab-df-convert\" onclick=\"convertToInteractive('df-da1fef28-91cc-4988-a543-0c2708bf4652')\"\n",
              "            title=\"Convert this dataframe to an interactive table.\"\n",
              "            style=\"display:none;\">\n",
              "\n",
              "  <svg xmlns=\"http://www.w3.org/2000/svg\" height=\"24px\" viewBox=\"0 -960 960 960\">\n",
              "    <path d=\"M120-120v-720h720v720H120Zm60-500h600v-160H180v160Zm220 220h160v-160H400v160Zm0 220h160v-160H400v160ZM180-400h160v-160H180v160Zm440 0h160v-160H620v160ZM180-180h160v-160H180v160Zm440 0h160v-160H620v160Z\"/>\n",
              "  </svg>\n",
              "    </button>\n",
              "\n",
              "  <style>\n",
              "    .colab-df-container {\n",
              "      display:flex;\n",
              "      gap: 12px;\n",
              "    }\n",
              "\n",
              "    .colab-df-convert {\n",
              "      background-color: #E8F0FE;\n",
              "      border: none;\n",
              "      border-radius: 50%;\n",
              "      cursor: pointer;\n",
              "      display: none;\n",
              "      fill: #1967D2;\n",
              "      height: 32px;\n",
              "      padding: 0 0 0 0;\n",
              "      width: 32px;\n",
              "    }\n",
              "\n",
              "    .colab-df-convert:hover {\n",
              "      background-color: #E2EBFA;\n",
              "      box-shadow: 0px 1px 2px rgba(60, 64, 67, 0.3), 0px 1px 3px 1px rgba(60, 64, 67, 0.15);\n",
              "      fill: #174EA6;\n",
              "    }\n",
              "\n",
              "    .colab-df-buttons div {\n",
              "      margin-bottom: 4px;\n",
              "    }\n",
              "\n",
              "    [theme=dark] .colab-df-convert {\n",
              "      background-color: #3B4455;\n",
              "      fill: #D2E3FC;\n",
              "    }\n",
              "\n",
              "    [theme=dark] .colab-df-convert:hover {\n",
              "      background-color: #434B5C;\n",
              "      box-shadow: 0px 1px 3px 1px rgba(0, 0, 0, 0.15);\n",
              "      filter: drop-shadow(0px 1px 2px rgba(0, 0, 0, 0.3));\n",
              "      fill: #FFFFFF;\n",
              "    }\n",
              "  </style>\n",
              "\n",
              "    <script>\n",
              "      const buttonEl =\n",
              "        document.querySelector('#df-da1fef28-91cc-4988-a543-0c2708bf4652 button.colab-df-convert');\n",
              "      buttonEl.style.display =\n",
              "        google.colab.kernel.accessAllowed ? 'block' : 'none';\n",
              "\n",
              "      async function convertToInteractive(key) {\n",
              "        const element = document.querySelector('#df-da1fef28-91cc-4988-a543-0c2708bf4652');\n",
              "        const dataTable =\n",
              "          await google.colab.kernel.invokeFunction('convertToInteractive',\n",
              "                                                    [key], {});\n",
              "        if (!dataTable) return;\n",
              "\n",
              "        const docLinkHtml = 'Like what you see? Visit the ' +\n",
              "          '<a target=\"_blank\" href=https://colab.research.google.com/notebooks/data_table.ipynb>data table notebook</a>'\n",
              "          + ' to learn more about interactive tables.';\n",
              "        element.innerHTML = '';\n",
              "        dataTable['output_type'] = 'display_data';\n",
              "        await google.colab.output.renderOutput(dataTable, element);\n",
              "        const docLink = document.createElement('div');\n",
              "        docLink.innerHTML = docLinkHtml;\n",
              "        element.appendChild(docLink);\n",
              "      }\n",
              "    </script>\n",
              "  </div>\n",
              "\n",
              "\n",
              "<div id=\"df-15f1bd00-df6f-4c40-8fc8-903b4eaf34b1\">\n",
              "  <button class=\"colab-df-quickchart\" onclick=\"quickchart('df-15f1bd00-df6f-4c40-8fc8-903b4eaf34b1')\"\n",
              "            title=\"Suggest charts.\"\n",
              "            style=\"display:none;\">\n",
              "\n",
              "<svg xmlns=\"http://www.w3.org/2000/svg\" height=\"24px\"viewBox=\"0 0 24 24\"\n",
              "     width=\"24px\">\n",
              "    <g>\n",
              "        <path d=\"M19 3H5c-1.1 0-2 .9-2 2v14c0 1.1.9 2 2 2h14c1.1 0 2-.9 2-2V5c0-1.1-.9-2-2-2zM9 17H7v-7h2v7zm4 0h-2V7h2v10zm4 0h-2v-4h2v4z\"/>\n",
              "    </g>\n",
              "</svg>\n",
              "  </button>\n",
              "\n",
              "<style>\n",
              "  .colab-df-quickchart {\n",
              "      --bg-color: #E8F0FE;\n",
              "      --fill-color: #1967D2;\n",
              "      --hover-bg-color: #E2EBFA;\n",
              "      --hover-fill-color: #174EA6;\n",
              "      --disabled-fill-color: #AAA;\n",
              "      --disabled-bg-color: #DDD;\n",
              "  }\n",
              "\n",
              "  [theme=dark] .colab-df-quickchart {\n",
              "      --bg-color: #3B4455;\n",
              "      --fill-color: #D2E3FC;\n",
              "      --hover-bg-color: #434B5C;\n",
              "      --hover-fill-color: #FFFFFF;\n",
              "      --disabled-bg-color: #3B4455;\n",
              "      --disabled-fill-color: #666;\n",
              "  }\n",
              "\n",
              "  .colab-df-quickchart {\n",
              "    background-color: var(--bg-color);\n",
              "    border: none;\n",
              "    border-radius: 50%;\n",
              "    cursor: pointer;\n",
              "    display: none;\n",
              "    fill: var(--fill-color);\n",
              "    height: 32px;\n",
              "    padding: 0;\n",
              "    width: 32px;\n",
              "  }\n",
              "\n",
              "  .colab-df-quickchart:hover {\n",
              "    background-color: var(--hover-bg-color);\n",
              "    box-shadow: 0 1px 2px rgba(60, 64, 67, 0.3), 0 1px 3px 1px rgba(60, 64, 67, 0.15);\n",
              "    fill: var(--button-hover-fill-color);\n",
              "  }\n",
              "\n",
              "  .colab-df-quickchart-complete:disabled,\n",
              "  .colab-df-quickchart-complete:disabled:hover {\n",
              "    background-color: var(--disabled-bg-color);\n",
              "    fill: var(--disabled-fill-color);\n",
              "    box-shadow: none;\n",
              "  }\n",
              "\n",
              "  .colab-df-spinner {\n",
              "    border: 2px solid var(--fill-color);\n",
              "    border-color: transparent;\n",
              "    border-bottom-color: var(--fill-color);\n",
              "    animation:\n",
              "      spin 1s steps(1) infinite;\n",
              "  }\n",
              "\n",
              "  @keyframes spin {\n",
              "    0% {\n",
              "      border-color: transparent;\n",
              "      border-bottom-color: var(--fill-color);\n",
              "      border-left-color: var(--fill-color);\n",
              "    }\n",
              "    20% {\n",
              "      border-color: transparent;\n",
              "      border-left-color: var(--fill-color);\n",
              "      border-top-color: var(--fill-color);\n",
              "    }\n",
              "    30% {\n",
              "      border-color: transparent;\n",
              "      border-left-color: var(--fill-color);\n",
              "      border-top-color: var(--fill-color);\n",
              "      border-right-color: var(--fill-color);\n",
              "    }\n",
              "    40% {\n",
              "      border-color: transparent;\n",
              "      border-right-color: var(--fill-color);\n",
              "      border-top-color: var(--fill-color);\n",
              "    }\n",
              "    60% {\n",
              "      border-color: transparent;\n",
              "      border-right-color: var(--fill-color);\n",
              "    }\n",
              "    80% {\n",
              "      border-color: transparent;\n",
              "      border-right-color: var(--fill-color);\n",
              "      border-bottom-color: var(--fill-color);\n",
              "    }\n",
              "    90% {\n",
              "      border-color: transparent;\n",
              "      border-bottom-color: var(--fill-color);\n",
              "    }\n",
              "  }\n",
              "</style>\n",
              "\n",
              "  <script>\n",
              "    async function quickchart(key) {\n",
              "      const quickchartButtonEl =\n",
              "        document.querySelector('#' + key + ' button');\n",
              "      quickchartButtonEl.disabled = true;  // To prevent multiple clicks.\n",
              "      quickchartButtonEl.classList.add('colab-df-spinner');\n",
              "      try {\n",
              "        const charts = await google.colab.kernel.invokeFunction(\n",
              "            'suggestCharts', [key], {});\n",
              "      } catch (error) {\n",
              "        console.error('Error during call to suggestCharts:', error);\n",
              "      }\n",
              "      quickchartButtonEl.classList.remove('colab-df-spinner');\n",
              "      quickchartButtonEl.classList.add('colab-df-quickchart-complete');\n",
              "    }\n",
              "    (() => {\n",
              "      let quickchartButtonEl =\n",
              "        document.querySelector('#df-15f1bd00-df6f-4c40-8fc8-903b4eaf34b1 button');\n",
              "      quickchartButtonEl.style.display =\n",
              "        google.colab.kernel.accessAllowed ? 'block' : 'none';\n",
              "    })();\n",
              "  </script>\n",
              "</div>\n",
              "    </div>\n",
              "  </div>\n"
            ]
          },
          "metadata": {},
          "execution_count": 72
        }
      ]
    },
    {
      "cell_type": "markdown",
      "source": [
        "MENGHAPUS DATA TIDAK LENGKAP DAN DUPLIKAT"
      ],
      "metadata": {
        "id": "olphembHD9-D"
      }
    },
    {
      "cell_type": "code",
      "source": [
        "data_food = data_food.dropna()\n",
        "data_food = data_food.drop_duplicates()"
      ],
      "metadata": {
        "id": "IqXZtqXbEDfs"
      },
      "execution_count": null,
      "outputs": []
    },
    {
      "cell_type": "markdown",
      "source": [
        "MENENTUKAN FITUR X DAN Y"
      ],
      "metadata": {
        "id": "38hMGLqZEFwb"
      }
    },
    {
      "cell_type": "code",
      "source": [
        "x = data_food.values[:, 3:8]\n",
        "y = data_food.values[:, 8]"
      ],
      "metadata": {
        "id": "lr5w7Sg8EMD1"
      },
      "execution_count": null,
      "outputs": []
    },
    {
      "cell_type": "markdown",
      "source": [
        "MEMBUAT DATA TRAINING DAN TEST"
      ],
      "metadata": {
        "id": "aAq3iJFlEPEj"
      }
    },
    {
      "cell_type": "code",
      "source": [
        "x_train, x_test, y_train, y_test = train_test_split(x, y, test_size=0.3)\n",
        "y_train =y_train.astype('int')\n",
        "y_test =y_test.astype('int')"
      ],
      "metadata": {
        "id": "TBcvj41lEUQ-"
      },
      "execution_count": null,
      "outputs": []
    },
    {
      "cell_type": "markdown",
      "source": [
        "DECISION TREE MENGGUNAKAN PARAMETER YANG TIDAK BERESIKO DATA TAK AKURAT"
      ],
      "metadata": {
        "id": "lC1ryKZPEW8a"
      }
    },
    {
      "cell_type": "code",
      "source": [
        "#Decision Tree menggunakan parameter parameter untuk mengurangi resiko data tidak akurat\n",
        "dt = DTC(criterion=\"entropy\", random_state=100, max_depth=3, min_samples_leaf=5)\n",
        "dt.fit(x_train, y_train)\n",
        "y_pred = dt.predict(x_test)"
      ],
      "metadata": {
        "id": "nRshngbqEg3q"
      },
      "execution_count": null,
      "outputs": []
    },
    {
      "cell_type": "markdown",
      "source": [
        "PRINT OUT MATRIX CONFUSION DAN AKURASI"
      ],
      "metadata": {
        "id": "aeYDguybEmZE"
      }
    },
    {
      "cell_type": "code",
      "source": [
        "print(\"Accuracy : \", f\"{acc(y_test, y_pred)*100:.2f}%\")\n",
        "print(\"Confusion Matrix : \", f\"{cm(y_test, y_pred)}\")\n",
        "print(\"Accuracy : \", f\"{cr(y_test, y_pred)}\")"
      ],
      "metadata": {
        "id": "MVcsT35WE2dH",
        "colab": {
          "base_uri": "https://localhost:8080/"
        },
        "outputId": "63fe71cf-17bc-4089-fd73-8f524f866ee3"
      },
      "execution_count": null,
      "outputs": [
        {
          "output_type": "stream",
          "name": "stdout",
          "text": [
            "Accuracy :  96.92%\n",
            "Confusion Matrix :  [[36  0]\n",
            " [ 2 27]]\n",
            "Accuracy :                precision    recall  f1-score   support\n",
            "\n",
            "           0       0.95      1.00      0.97        36\n",
            "           1       1.00      0.93      0.96        29\n",
            "\n",
            "    accuracy                           0.97        65\n",
            "   macro avg       0.97      0.97      0.97        65\n",
            "weighted avg       0.97      0.97      0.97        65\n",
            "\n"
          ]
        }
      ]
    },
    {
      "cell_type": "markdown",
      "source": [
        "## Daftar Pustaka\n",
        "[1]\tReyvan Maulid Pradistya, “Machine Learning With Python for Beginner.” Accessed: Oct. 29, 2023. [Online]. Available: https://reyvanmaulid.medium.com/machine-learning-with-python-for-beginner-1e6c1d283580\n",
        "\n",
        "[2]\tG. Garcia-Garcia, E. Woolley, S. Rahimifard, J. Colwill, R. White, and L. Needham, “A Methodology for Sustainable Management of Food Waste,” Waste Biomass Valorization, vol. 8, no. 6, pp. 2209–2227, Sep. 2017, doi: 10.1007/s12649-016-9720-0.\n",
        "\n",
        "[3]\t“Food Waste data and research - by country”. https://www.kaggle.com/datasets/joebeachcapital/food-waste/\n"
      ],
      "metadata": {
        "id": "Kipo0fj_L-NO"
      }
    }
  ]
}